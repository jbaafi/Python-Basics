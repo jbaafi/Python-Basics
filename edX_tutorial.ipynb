{
 "cells": [
  {
   "cell_type": "code",
   "execution_count": 2,
   "metadata": {},
   "outputs": [
    {
     "name": "stdout",
     "output_type": "stream",
     "text": [
      "Enter Hours : 5\n",
      "Enter rate: 10\n",
      "Pay : 50.0\n"
     ]
    }
   ],
   "source": [
    "# To create an input output function\n",
    "\n",
    "inp1 = input(\"Enter Hours : \")\n",
    "inp2 = input(\"Enter rate: \")\n",
    "wage = float(inp1) * float(inp2)\n",
    "print(\"Pay :\" ,wage)"
   ]
  },
  {
   "cell_type": "code",
   "execution_count": 14,
   "metadata": {},
   "outputs": [
    {
     "name": "stdout",
     "output_type": "stream",
     "text": [
      "Enter the value of x: 1\n",
      "Enter the constant: 1\n",
      "y:  3.0\n"
     ]
    }
   ],
   "source": [
    "# To solve a quadratic equation  \n",
    "\n",
    "x = input(\"Enter the value of x: \")\n",
    "a = input(\"Enter the constant: \")\n",
    "ans = float(x)**2 + float(x) + float(a)\n",
    "print(\"y: \", ans)"
   ]
  },
  {
   "cell_type": "code",
   "execution_count": 25,
   "metadata": {},
   "outputs": [
    {
     "name": "stdout",
     "output_type": "stream",
     "text": [
      "False\n"
     ]
    }
   ],
   "source": [
    "x = 5\n",
    "if x!=5:\n",
    "    print(\"True\")\n",
    "else:\n",
    "    print(\"False\")"
   ]
  },
  {
   "cell_type": "code",
   "execution_count": 30,
   "metadata": {},
   "outputs": [
    {
     "name": "stdout",
     "output_type": "stream",
     "text": [
      "Answer is False\n"
     ]
    }
   ],
   "source": [
    "x = 15\n",
    "if x>30:\n",
    "    print(\"Answer is True\")\n",
    "else:\n",
    "    print(\"Answer is False\")"
   ]
  },
  {
   "cell_type": "code",
   "execution_count": 28,
   "metadata": {},
   "outputs": [
    {
     "name": "stdout",
     "output_type": "stream",
     "text": [
      "False\n"
     ]
    }
   ],
   "source": [
    "y=5\n",
    "if y<4:\n",
    "    print(\"True\")\n",
    "else:\n",
    "    print(\"False\")"
   ]
  },
  {
   "cell_type": "code",
   "execution_count": 1,
   "metadata": {},
   "outputs": [
    {
     "name": "stdout",
     "output_type": "stream",
     "text": [
      "True\n",
      "i is less than 20\n",
      "Done\n"
     ]
    }
   ],
   "source": [
    "i = 10\n",
    "if i < 20:\n",
    "    print(\"True\")\n",
    "    print(\"i is less than 20\")\n",
    "print(\"Done\")"
   ]
  },
  {
   "cell_type": "code",
   "execution_count": 3,
   "metadata": {},
   "outputs": [
    {
     "name": "stdout",
     "output_type": "stream",
     "text": [
      "0\n",
      "1\n",
      "2\n",
      "3\n",
      "4\n"
     ]
    }
   ],
   "source": [
    "for i in range(5):\n",
    "    print(i)"
   ]
  },
  {
   "cell_type": "code",
   "execution_count": 6,
   "metadata": {},
   "outputs": [
    {
     "name": "stdout",
     "output_type": "stream",
     "text": [
      "Done\n"
     ]
    }
   ],
   "source": [
    "i = 0\n",
    "if i > 2:\n",
    "    print(\"Small\")\n",
    "elif i >= 5:\n",
    "    print(\"Big\")\n",
    "else:\n",
    "    print(\"Done\")"
   ]
  },
  {
   "cell_type": "code",
   "execution_count": 9,
   "metadata": {},
   "outputs": [
    {
     "name": "stdout",
     "output_type": "stream",
     "text": [
      "Is ok\n"
     ]
    }
   ],
   "source": [
    "i = 17\n",
    "if i <= 15:\n",
    "    print(\"Small\")\n",
    "elif i <10:\n",
    "    print(\"very small\")\n",
    "elif i >20:\n",
    "    print(\"Big\")\n",
    "elif i < 19:\n",
    "    print(\"Is ok\")\n",
    "else:\n",
    "    print(\"Done\")"
   ]
  },
  {
   "cell_type": "code",
   "execution_count": 13,
   "metadata": {},
   "outputs": [
    {
     "name": "stdout",
     "output_type": "stream",
     "text": [
      "First:  1\n"
     ]
    }
   ],
   "source": [
    "# Try except block of writing code\n",
    "\n",
    "astr = \"Hi Baafi\"\n",
    "try:\n",
    "    istr = int(astr)\n",
    "except:\n",
    "    istr = 1\n",
    "print(\"First: \" ,istr)"
   ]
  },
  {
   "cell_type": "code",
   "execution_count": 12,
   "metadata": {},
   "outputs": [
    {
     "name": "stdout",
     "output_type": "stream",
     "text": [
      "Second:  123\n"
     ]
    }
   ],
   "source": [
    "astr = \"123\"\n",
    "try:\n",
    "    istr = int(astr)\n",
    "except:\n",
    "    istr = -1\n",
    "print(\"Second: \", istr)"
   ]
  },
  {
   "cell_type": "code",
   "execution_count": 29,
   "metadata": {},
   "outputs": [
    {
     "name": "stdout",
     "output_type": "stream",
     "text": [
      "Enter a number: two\n",
      "The number is:  4\n"
     ]
    }
   ],
   "source": [
    "rawstr = input(\"Enter a number: \")\n",
    "try:\n",
    "    eval = int(rawstr)\n",
    "except:\n",
    "    eval = 4\n",
    "print(\"The number is: \", eval)\n",
    "    "
   ]
  },
  {
   "cell_type": "code",
   "execution_count": 27,
   "metadata": {},
   "outputs": [
    {
     "name": "stdout",
     "output_type": "stream",
     "text": [
      "Enter a number: 5\n",
      "The number is arbitrary\n"
     ]
    }
   ],
   "source": [
    "rawstr = input(\"Enter a number: \")\n",
    "try:\n",
    "    eval = int(rawstr)\n",
    "except:\n",
    "    eval = 1\n",
    "if eval > 30:\n",
    "    print(\"Number is greather than ten\")\n",
    "elif eval  < 1:\n",
    "    print(\"Number less than five\")\n",
    "else:\n",
    "    print(\"The number is arbitrary\")\n"
   ]
  },
  {
   "cell_type": "code",
   "execution_count": null,
   "metadata": {},
   "outputs": [],
   "source": []
  }
 ],
 "metadata": {
  "kernelspec": {
   "display_name": "Python 3",
   "language": "python",
   "name": "python3"
  },
  "language_info": {
   "codemirror_mode": {
    "name": "ipython",
    "version": 3
   },
   "file_extension": ".py",
   "mimetype": "text/x-python",
   "name": "python",
   "nbconvert_exporter": "python",
   "pygments_lexer": "ipython3",
   "version": "3.7.4"
  }
 },
 "nbformat": 4,
 "nbformat_minor": 2
}
